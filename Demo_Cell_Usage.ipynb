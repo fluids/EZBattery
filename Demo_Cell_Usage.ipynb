{
 "cells": [
  {
   "cell_type": "markdown",
   "id": "771fb29e",
   "metadata": {},
   "source": [
    "# EZBattery demo\n",
    "------------------------------------------\n",
    "### If the battery metadata is available in the format of the StanDard Parameter File (SDPF) format, then loading the metadata and running EZBattery is very easy. Below we use the vanadium redox flow battery as an example. We have included various SDPF files in the Data folder for your quick test."
   ]
  },
  {
   "cell_type": "markdown",
   "id": "3a2379c1-6cb5-4407-b8f5-97a8f20e0622",
   "metadata": {},
   "source": [
    "### 1. Import all the necessary packages"
   ]
  },
  {
   "cell_type": "code",
   "execution_count": 5,
   "id": "2d018f4d",
   "metadata": {},
   "outputs": [],
   "source": [
    "import os\n",
    "from EZBattery import BatteryParameter, RFB"
   ]
  },
  {
   "cell_type": "markdown",
   "id": "47fd61f2-773d-4376-99f9-e25e64216679",
   "metadata": {},
   "source": [
    "### 2. Load in the cell metadata"
   ]
  },
  {
   "cell_type": "code",
   "execution_count": 6,
   "id": "53036145",
   "metadata": {},
   "outputs": [],
   "source": [
    "SDPFPath = os.getcwd() + os.sep + 'data' + os.sep + 'SDPF_Vanadium_20240718_V5C.xlsx'\n",
    "PP = BatteryParameter(SDPFPath)"
   ]
  },
  {
   "cell_type": "markdown",
   "id": "5dec1e18-9446-4503-838b-978b9a39c81f",
   "metadata": {},
   "source": [
    "### 3. Run the EBattery model"
   ]
  },
  {
   "cell_type": "code",
   "execution_count": 7,
   "id": "bb63fa89",
   "metadata": {
    "scrolled": true
   },
   "outputs": [
    {
     "name": "stdout",
     "output_type": "stream",
     "text": [
      "Running a multi-cycle unit cell model.\n",
      "Active species: ['Vanadium4', 'Vanadium5', 'Vanadium3', 'Vanadium2'].\n",
      "Non active species: ['Water', 'Proton'].\n",
      "Cycle 1: charge 1.818 h, discharge 1.767 h, CE: 0.972, Cumulative CE 0.972 (2.2%).\n",
      "Cycle 2: charge 1.772 h, discharge 1.767 h, CE: 0.997, Cumulative CE 0.972 (4.3%).\n",
      "Cycle 3: charge 1.771 h, discharge 1.766 h, CE: 0.997, Cumulative CE 0.971 (6.4%).\n",
      "Cycle 4: charge 1.770 h, discharge 1.765 h, CE: 0.997, Cumulative CE 0.971 (8.5%).\n",
      "Cycle 5: charge 1.770 h, discharge 1.764 h, CE: 0.997, Cumulative CE 0.970 (10.7%).\n",
      "Cycle 6: charge 1.769 h, discharge 1.763 h, CE: 0.997, Cumulative CE 0.970 (12.8%).\n",
      "Cycle 7: charge 1.768 h, discharge 1.762 h, CE: 0.997, Cumulative CE 0.969 (14.9%).\n",
      "Cycle 8: charge 1.767 h, discharge 1.761 h, CE: 0.997, Cumulative CE 0.969 (17.0%).\n",
      "Cycle 9: charge 1.766 h, discharge 1.760 h, CE: 0.997, Cumulative CE 0.968 (19.2%).\n",
      "Cycle 10: charge 1.765 h, discharge 1.759 h, CE: 0.997, Cumulative CE 0.968 (21.3%).\n",
      "Cycle 11: charge 1.764 h, discharge 1.758 h, CE: 0.997, Cumulative CE 0.967 (23.4%).\n",
      "Cycle 12: charge 1.763 h, discharge 1.757 h, CE: 0.997, Cumulative CE 0.967 (25.5%).\n",
      "Cycle 13: charge 1.762 h, discharge 1.756 h, CE: 0.997, Cumulative CE 0.966 (27.6%).\n",
      "Cycle 14: charge 1.760 h, discharge 1.755 h, CE: 0.997, Cumulative CE 0.965 (29.7%).\n",
      "Cycle 15: charge 1.759 h, discharge 1.754 h, CE: 0.997, Cumulative CE 0.965 (31.9%).\n",
      "Cycle 16: charge 1.758 h, discharge 1.753 h, CE: 0.997, Cumulative CE 0.964 (34.0%).\n",
      "Cycle 17: charge 1.757 h, discharge 1.751 h, CE: 0.997, Cumulative CE 0.963 (36.1%).\n",
      "Cycle 18: charge 1.756 h, discharge 1.750 h, CE: 0.997, Cumulative CE 0.963 (38.2%).\n",
      "Cycle 19: charge 1.755 h, discharge 1.749 h, CE: 0.997, Cumulative CE 0.962 (40.3%).\n",
      "Cycle 20: charge 1.753 h, discharge 1.748 h, CE: 0.997, Cumulative CE 0.961 (42.4%).\n",
      "Cycle 21: charge 1.752 h, discharge 1.747 h, CE: 0.997, Cumulative CE 0.961 (44.5%).\n",
      "Cycle 22: charge 1.751 h, discharge 1.745 h, CE: 0.997, Cumulative CE 0.960 (46.6%).\n",
      "Cycle 23: charge 1.750 h, discharge 1.744 h, CE: 0.997, Cumulative CE 0.959 (48.7%).\n",
      "Cycle 24: charge 1.748 h, discharge 1.743 h, CE: 0.997, Cumulative CE 0.959 (50.8%).\n",
      "Cycle 25: charge 1.747 h, discharge 1.742 h, CE: 0.997, Cumulative CE 0.958 (52.9%).\n",
      "Cycle 26: charge 1.746 h, discharge 1.740 h, CE: 0.997, Cumulative CE 0.957 (55.0%).\n",
      "Cycle 27: charge 1.745 h, discharge 1.739 h, CE: 0.997, Cumulative CE 0.957 (57.1%).\n",
      "Cycle 28: charge 1.743 h, discharge 1.738 h, CE: 0.997, Cumulative CE 0.956 (59.2%).\n",
      "Cycle 29: charge 1.742 h, discharge 1.737 h, CE: 0.997, Cumulative CE 0.955 (61.3%).\n",
      "Cycle 30: charge 1.741 h, discharge 1.735 h, CE: 0.997, Cumulative CE 0.954 (63.4%).\n",
      "Cycle 31: charge 1.740 h, discharge 1.734 h, CE: 0.997, Cumulative CE 0.954 (65.5%).\n",
      "Cycle 32: charge 1.738 h, discharge 1.733 h, CE: 0.997, Cumulative CE 0.953 (67.5%).\n",
      "Cycle 33: charge 1.737 h, discharge 1.731 h, CE: 0.997, Cumulative CE 0.952 (69.6%).\n",
      "Cycle 34: charge 1.736 h, discharge 1.730 h, CE: 0.997, Cumulative CE 0.952 (71.7%).\n",
      "Cycle 35: charge 1.734 h, discharge 1.729 h, CE: 0.997, Cumulative CE 0.951 (73.8%).\n",
      "Cycle 36: charge 1.733 h, discharge 1.728 h, CE: 0.997, Cumulative CE 0.950 (75.9%).\n",
      "Cycle 37: charge 1.732 h, discharge 1.726 h, CE: 0.997, Cumulative CE 0.950 (78.0%).\n",
      "Cycle 38: charge 1.731 h, discharge 1.725 h, CE: 0.997, Cumulative CE 0.949 (80.0%).\n",
      "Cycle 39: charge 1.729 h, discharge 1.724 h, CE: 0.997, Cumulative CE 0.948 (82.1%).\n",
      "Cycle 40: charge 1.728 h, discharge 1.723 h, CE: 0.997, Cumulative CE 0.947 (84.2%).\n",
      "Cycle 41: charge 1.727 h, discharge 1.721 h, CE: 0.997, Cumulative CE 0.947 (86.3%).\n",
      "Computation done, elapsed time 0.688625 seconds, average time per cycle 0.0167957 seconds.\n",
      "\n"
     ]
    }
   ],
   "source": [
    "Re = RFB(PP)"
   ]
  }
 ],
 "metadata": {
  "kernelspec": {
   "display_name": "Python 3 (ipykernel)",
   "language": "python",
   "name": "python3"
  },
  "language_info": {
   "codemirror_mode": {
    "name": "ipython",
    "version": 3
   },
   "file_extension": ".py",
   "mimetype": "text/x-python",
   "name": "python",
   "nbconvert_exporter": "python",
   "pygments_lexer": "ipython3",
   "version": "3.11.3"
  }
 },
 "nbformat": 4,
 "nbformat_minor": 5
}
